{
 "cells": [
  {
   "cell_type": "code",
   "execution_count": null,
   "metadata": {},
   "outputs": [],
   "source": []
  },
  {
   "cell_type": "code",
   "execution_count": 55,
   "metadata": {},
   "outputs": [
    {
     "name": "stdout",
     "output_type": "stream",
     "text": [
      "hello world\n"
     ]
    }
   ],
   "source": [
    "import nltk\n",
    "print('hello world')"
   ]
  },
  {
   "cell_type": "code",
   "execution_count": 56,
   "metadata": {},
   "outputs": [],
   "source": [
    "def foo():\n",
    "    print('foo')"
   ]
  },
  {
   "cell_type": "code",
   "execution_count": 57,
   "metadata": {},
   "outputs": [
    {
     "name": "stdout",
     "output_type": "stream",
     "text": [
      "foo\n"
     ]
    }
   ],
   "source": [
    "foo()"
   ]
  },
  {
   "cell_type": "code",
   "execution_count": 58,
   "metadata": {},
   "outputs": [],
   "source": [
    "import pandas\n",
    "#pandas.read_excel(r'C:\\Users\\n1555085\\Downloads\\Copy of CSAT Help hub April Responses.xlsx')\n",
    "sheet = pandas.read_excel(r'C:\\Users\\n1555085\\Downloads\\May Help Hub Data.xlsx')\n",
    "courtesy = sheet['Unnamed: 9'].dropna().values.tolist()[1:]\n",
    "effectiveness = sheet['Unnamed: 10'].dropna().values.tolist()[1:]\n",
    "timeliness = sheet['Unnamed: 11'].dropna().values.tolist()[1:]\n",
    "understanding = sheet['Unnamed: 12'].dropna().values.tolist()[1:]\n",
    "nps = sheet['Unnamed: 13'].dropna().values.tolist()[1:]\n",
    "comments = courtesy + effectiveness + timeliness + understanding + nps\n",
    "date = sheet['Unnamed: 1'].dropna().values.tolist()[1:]\n",
    "#should add completion rate"
   ]
  },
  {
   "cell_type": "code",
   "execution_count": 59,
   "metadata": {},
   "outputs": [
    {
     "name": "stdout",
     "output_type": "stream",
     "text": [
      "# of courtesy comments: 10\n",
      "# of effectiveness comments: 17\n",
      "# of timeliness comments: 24\n",
      "# of understanding comments: 13\n",
      "# of nps comments: 148\n",
      "# of comments: 212\n"
     ]
    }
   ],
   "source": [
    "print(f'# of courtesy comments: {len(courtesy)}')\n",
    "print(f'# of effectiveness comments: {len(effectiveness)}')\n",
    "print(f'# of timeliness comments: {len(timeliness)}')\n",
    "print(f'# of understanding comments: {len(understanding)}')\n",
    "print(f'# of nps comments: {len(nps)}')\n",
    "print(f'# of comments: {len(comments)}')"
   ]
  },
  {
   "cell_type": "code",
   "execution_count": 60,
   "metadata": {},
   "outputs": [
    {
     "name": "stdout",
     "output_type": "stream",
     "text": [
      "hi\n"
     ]
    }
   ],
   "source": [
    "print('hi')"
   ]
  },
  {
   "cell_type": "code",
   "execution_count": 62,
   "metadata": {},
   "outputs": [
    {
     "name": "stdout",
     "output_type": "stream",
     "text": [
      "4553 1574\n"
     ]
    },
    {
     "data": {
      "text/plain": [
       "['Spenser Cameron set assisted IT issues. He exceptional trying assist newcomer new systems.',\n",
       " 'second consultant awesome appropriate follow well letting know break fix consultants suggestion since I could not receive emails. She best.',\n",
       " 'support personnel helpful patient issue I',\n",
       " 'fast service.',\n",
       " 'Greeting robotic, however loosened conversation went on.']"
      ]
     },
     "execution_count": 62,
     "metadata": {},
     "output_type": "execute_result"
    }
   ],
   "source": [
    "#read from corpus, remove stopwords\n",
    "from nltk.corpus import stopwords\n",
    "from string import punctuation\n",
    "\n",
    "with open(r'C:\\Users\\n1555085\\Downloads\\Project\\positiveComments.txt', 'r') as f:\n",
    "    posReviews = f.readlines()\n",
    "with open(r'C:\\Users\\n1555085\\Downloads\\Project\\negativeComments.txt', 'r') as f:\n",
    "    negReviews = f.readlines()\n",
    "print(len(posReviews), len(negReviews))\n",
    "\n",
    "sw = set(stopwords.words('english') + list(punctuation))\n",
    "notStopwords = ['not', 'no', '!', 'but', 'too', 'have', 'had']\n",
    "\n",
    "def removeStopwords(review):\n",
    "    #review.translate(None, string.punctuation)\n",
    "    return ' '.join([word for word in review.split() if word not in sw or word in notStopwords])\n",
    "posReviews = list(filter(lambda s: s , list(map(removeStopwords, posReviews))))\n",
    "negReviews = list(filter(lambda s: s , list(map(removeStopwords, negReviews))))\n",
    "\n",
    "posReviews[0:5]\n",
    "#negReviews[0:5]"
   ]
  },
  {
   "cell_type": "code",
   "execution_count": 63,
   "metadata": {},
   "outputs": [],
   "source": [
    "#define pos and neg bag-of words, and vocabulary\n",
    "\n",
    "posWords = [word.lower() for review in posReviews for word in review.split()]\n",
    "negWords = [word.lower() for review in negReviews for word in review.split()]\n",
    "vocabulary = list(set(posWords + negWords))\n",
    "#vocabulary[0:100]"
   ]
  },
  {
   "cell_type": "code",
   "execution_count": 64,
   "metadata": {},
   "outputs": [],
   "source": [
    "#define training data: list of (review list of words, label) tuples\n",
    "trainingData = [(r.split(), 'pos') for r in posReviews] + [(r.split(), 'neg') for r in negReviews]"
   ]
  },
  {
   "cell_type": "code",
   "execution_count": 72,
   "metadata": {},
   "outputs": [],
   "source": [
    "#NAIVE BAYES CLASSIFIER: extract feature vector from each review, train classifier\n",
    "def featureVector(reviewSplit):\n",
    "    reviewWords = set(reviewSplit)\n",
    "    features = {}\n",
    "    for word in vocabulary:\n",
    "        features[word] = word in reviewWords\n",
    "    return features\n",
    "\n",
    "naiveBayesClassifier = nltk.NaiveBayesClassifier.train(nltk.classify.apply_features(featureVector, trainingData))\n",
    "\n",
    "#classify functions\n",
    "def NBclassify(review):\n",
    "    review = removeStopwords(review)\n",
    "    features = featureVector(review.split())\n",
    "    probDist = naiveBayesClassifier.prob_classify(features)\n",
    "    confidence = max(probDist.prob('pos'), probDist.prob('neg'))\n",
    "    #pos and neg add to 1\n",
    "    return (naiveBayesClassifier.classify(features).upper(), confidence)\n",
    "\n",
    "def NBclassifyComments(comments):\n",
    "    return [(c, NBclassify(c)) for c in comments]"
   ]
  },
  {
   "cell_type": "code",
   "execution_count": 104,
   "metadata": {},
   "outputs": [
    {
     "data": {
      "text/plain": [
       "[('1st ticket they marked resolved even though it was not.',\n",
       "  ('POS', 0.7108082493822837)),\n",
       " ('no next steps. have to restart my request from scratch.',\n",
       "  ('POS', 0.6788194278729774)),\n",
       " ('See previous comment.', ('POS', 0.9998479614398925)),\n",
       " ('No response nor assistance was given', ('POS', 0.9996127782321947)),\n",
       " ('I was given a solution that did not meet my needs. Finally I was directed to a JIRA site for another team and my ticket was resolved although my issue still remains. Hopefully the JIRA team can help.',\n",
       "  ('NEG', 0.943626558667604)),\n",
       " ('there is a fix without calling internet which i was told to do',\n",
       "  ('POS', 0.9696059036741314)),\n",
       " ('.', ('POS', 0.9998884231699515)),\n",
       " ('I was asked multiple times to keep doing the same thing by different people. Clear my cache and cookies when I literally had just done that 1 minute prior. That was a bit frustrating.',\n",
       "  ('NEG', 0.9999973632610897)),\n",
       " ('Unfortunately recreating my VDE is not an ideal scenario. Having said that, it has nothing to do with the person that picked up this ticket.',\n",
       "  ('NEG', 0.7964381753595979)),\n",
       " ('there was a large gap from it being escalated to when it was resolved',\n",
       "  ('POS', 0.997779231669562)),\n",
       " ('n/a as issue was resolved without HD assist', ('POS', 0.9994840602891539)),\n",
       " ('The issue is not resolved, not to the fault of the IT team.',\n",
       "  ('POS', 0.9965752446139041)),\n",
       " ('Contacting myself is not a good solution and I dont understand why myself as a current member of a shared inbox would need my direct reports permission to share access with another employee.',\n",
       "  ('NEG', 0.9968551667050066)),\n",
       " ('Last contact with your rep indicated that this issue was being reviewed by others for resolution. However, I then got an email telling me my ticket has been closed as resolved. I do know that we are pursuing this issue with other sources, but that should have been communicated to me, rather than me having to find out by going to my manager and others to discuss next steps.',\n",
       "  ('NEG', 0.9999999647406675)),\n",
       " ('satisfied with the service', ('POS', 0.999940090358681)),\n",
       " ('Nothing of significance has been reported as to what the next steps should be. I received a note that I might have to re-order and re-enter all of the information for the report, which is something that has never had to be done in the past.',\n",
       "  ('NEG', 0.9998351199183563)),\n",
       " ('very helpfull, understanding, and friendly in helping me with my issues',\n",
       "  ('POS', 0.9999972372114394))]"
      ]
     },
     "execution_count": 104,
     "metadata": {},
     "output_type": "execute_result"
    }
   ],
   "source": [
    "NBlabeledComments = NBclassifyComments(effectiveness)\n",
    "NBlabeledComments"
   ]
  },
  {
   "cell_type": "code",
   "execution_count": 119,
   "metadata": {},
   "outputs": [],
   "source": [
    "#SVM Classifier\n",
    "from sklearn.feature_extraction.text import TfidfVectorizer\n",
    "from sklearn.svm import SVC\n",
    "\n",
    "vectorizer = TfidfVectorizer(min_df = 5, max_df = 0.8, sublinear_tf = True, use_idf = True)\n",
    "train_vectors = vectorizer.fit_transform(posReviews + negReviews)\n",
    "\n",
    "classifier_linear = SVC(kernel='linear')\n",
    "classifier_linear.fit(train_vectors, ['pos'] * len(posReviews) + ['neg'] * len(negReviews))\n",
    "\n",
    "classifier_poly = SVC(kernel='poly')\n",
    "classifier_poly.fit(train_vectors, ['pos'] * len(posReviews) + ['neg'] * len(negReviews))\n",
    "\n",
    "classifier_rbf = SVC(kernel='rbf')\n",
    "classifier_rbf.fit(train_vectors, ['pos'] * len(posReviews) + ['neg'] * len(negReviews))\n",
    "\n",
    "classifier_sigmoid = SVC(kernel='sigmoid')\n",
    "classifier_sigmoid.fit(train_vectors, ['pos'] * len(posReviews) + ['neg'] * len(negReviews))\n",
    "\n",
    "# svm kernel can be ‘linear’, ‘poly’, ‘rbf’, or ‘sigmoid’\n",
    "def SVMclassify(review, kernel):\n",
    "    review = removeStopwords(review)\n",
    "    review_vector = vectorizer.transform([review]) # vectorizing\n",
    "    if kernel == 'linear':\n",
    "        return classifier_linear.predict(review_vector)[0]\n",
    "    elif kernel == 'poly':\n",
    "        return classifier_poly.predict(review_vector)[0]\n",
    "    elif kernel == 'rbf':\n",
    "        return classifier_rbf.predict(review_vector)[0]\n",
    "    elif kernel == 'sigmoid':\n",
    "        return classifier_sigmoid.predict(review_vector)[0]\n",
    "    return None\n",
    "\n",
    "def SVMclassifyComments(comments, kernel):\n",
    "    return [(c, SVMclassify(c, kernel)) for c in comments]"
   ]
  },
  {
   "cell_type": "code",
   "execution_count": 124,
   "metadata": {},
   "outputs": [
    {
     "data": {
      "text/plain": [
       "[('not resolved over 2 weeks later', 'neg'),\n",
       " ('It took a couple of days for the ticket to be addressed but this was fine as it was not blocking my work.',\n",
       "  'neg'),\n",
       " ('Issue was not resolved. Never connected with anyone before they closed the ticket.',\n",
       "  'neg'),\n",
       " ('The fixes that were implemented by the help technician fixed my problem!',\n",
       "  'pos'),\n",
       " ('This access request takes too long for processing. This took aver a week. Access to SMART is never going to be accidental, no on e even knows what SMART is unless you actually need it. This has been a major pain point for years but that doesnt seem to affect anyone but the one who made the request in the first place.',\n",
       "  'neg'),\n",
       " ('It would be great if resolution will be quicker', 'pos'),\n",
       " ('No response nor assistance was given', 'neg'),\n",
       " ('the first agent reached out at 8pm local time and never responded back to me when I replied the next day. Eventually I was contacted by someone else.',\n",
       "  'neg'),\n",
       " ('The first person who helped me could not figure out the problem, but once my ticket was escalated to the Mac specific help, they were able to fix the problem right away.',\n",
       "  'pos'),\n",
       " ('It took a few days before my ticket was addressed. Once it came up in the queue, it was addressed very efficiently.',\n",
       "  'neg'),\n",
       " ('Again, I wonder how long the fix took.', 'neg'),\n",
       " ('I had to call at 11 am (I opened the ticket about 8:30). For what turned out to be such a simple fix (reboot), I think it could have been addressed quicker.',\n",
       "  'pos'),\n",
       " ('There was a two day delay to determine level 2 needed and then 2 day delay to receive instructions.',\n",
       "  'pos'),\n",
       " ('i was not notified until 2 bus days after submitting the ticket. this is unacceptable when the issue involves being able to perform my daily tasks in my position.',\n",
       "  'neg'),\n",
       " ('My ticket was closed as a duplicate to another ticket. IT team was very helpful and quick but the issue is not resolved.',\n",
       "  'neg'),\n",
       " ('Took way too long to determine the actual problem, then several days for a solution as my direct report owned the box but I still couldnt get access until they approved it. Since they were on FTO it took 24 hours after I sent an approval request to them to get access.',\n",
       "  'neg'),\n",
       " ('I created the Tech Hub request on 4/30 and the issue was resolved on 5/25.',\n",
       "  'pos'),\n",
       " ('Fantastic service once ticket was allocated to the team in the US. Slow prior to that.',\n",
       "  'pos'),\n",
       " ('HD reached out via IM while I was in meetings which seems inefficient. A quick check of my status in Teams would let them know when I was available.',\n",
       "  'pos'),\n",
       " ('Took some time to elevate my ticket to the appropriate level but it was solved quickly once assigned',\n",
       "  'pos'),\n",
       " ('No solution was provided', 'neg'),\n",
       " ('very friendly', 'pos'),\n",
       " ('Issue has not been resolved, even thought I received a notice indicating it had been resolved. It has been at least Since 5/11 or 5/12 since the issue was reported.',\n",
       "  'pos'),\n",
       " ('It took a bit for a response however this was not anything urgent so it didnt affect me in a negative manner.',\n",
       "  'neg')]"
      ]
     },
     "execution_count": 124,
     "metadata": {},
     "output_type": "execute_result"
    }
   ],
   "source": [
    "SVMlabelledComments = SVMclassifyComments(timeliness, 'rbf')\n",
    "SVMlabelledComments"
   ]
  },
  {
   "cell_type": "code",
   "execution_count": null,
   "metadata": {},
   "outputs": [],
   "source": []
  }
 ],
 "metadata": {
  "kernelspec": {
   "display_name": "Python 3",
   "language": "python",
   "name": "python3"
  },
  "language_info": {
   "codemirror_mode": {
    "name": "ipython",
    "version": 3
   },
   "file_extension": ".py",
   "mimetype": "text/x-python",
   "name": "python",
   "nbconvert_exporter": "python",
   "pygments_lexer": "ipython3",
   "version": "3.8.5"
  }
 },
 "nbformat": 4,
 "nbformat_minor": 4
}
