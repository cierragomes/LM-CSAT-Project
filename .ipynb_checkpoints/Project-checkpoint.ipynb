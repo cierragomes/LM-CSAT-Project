{
 "cells": [
  {
   "cell_type": "code",
   "execution_count": 34,
   "metadata": {},
   "outputs": [],
   "source": [
    "import pandas as pd\n",
    "import nltk\n",
    "april_hh = pd.read_excel(r'C:\\Users\\n1555085\\Downloads\\Copy of CSAT Help hub April Responses.xlsx')\n"
   ]
  },
  {
   "cell_type": "code",
   "execution_count": 47,
   "metadata": {},
   "outputs": [
    {
     "name": "stdout",
     "output_type": "stream",
     "text": [
      "# of courtesy comments: 16\n",
      "# of effectiveness comments: 29\n",
      "# of timeliness comments: 35\n",
      "# of understanding comments: 29\n",
      "# of nps comments: 169\n",
      "# of comments: 278\n"
     ]
    }
   ],
   "source": [
    "courtesy = april_hh['Unnamed: 9'].dropna().values.tolist()[1:]\n",
    "# convert uppercase to lower\n",
    "effectiveness = april_hh['Unnamed: 10'].dropna().values.tolist()[1:]\n",
    "timeliness = april_hh['Unnamed: 11'].dropna().values.tolist()[1:]\n",
    "understanding = april_hh['Unnamed: 12'].dropna().values.tolist()[1:]\n",
    "NPS = april_hh['Unnamed: 13'].dropna().values.tolist()[1:]\n",
    "comments = courtesy + effectiveness + timeliness + understanding + NPS\n",
    "\n",
    "print(f'# of courtesy comments: {len(courtesy)}')\n",
    "print(f'# of effectiveness comments: {len(effectiveness)}')\n",
    "print(f'# of timeliness comments: {len(timeliness)}')\n",
    "print(f'# of understanding comments: {len(understanding)}')\n",
    "print(f'# of nps comments: {len(NPS)}')\n",
    "print(f'# of comments: {len(comments)}')"
   ]
  },
  {
   "cell_type": "code",
   "execution_count": 48,
   "metadata": {},
   "outputs": [],
   "source": [
    "#Initial comment processing"
   ]
  },
  {
   "cell_type": "code",
   "execution_count": 92,
   "metadata": {},
   "outputs": [],
   "source": [
    "from nltk.tokenize import word_tokenize, sent_tokenize\n",
    "from nltk.corpus import stopwords\n",
    "from string import punctuation\n",
    "customSW = set(stopwords.words('english') + list(punctuation))\n",
    "def removeStopWords(sentences):\n",
    "    toReturn = [None] * len(sentences)\n",
    "    for i in range(len(sentences)):\n",
    "        withoutStopwords = [word for word in sentences[i].lower().split() if word not in customSW]\n",
    "        toReturn[i] = ' '.join(withoutStopwords)\n",
    "    return toReturn\n",
    "comments = removeStopWords(comments)\n",
    "\n",
    "\n",
    "\n",
    "#customSW\n",
    "#comments"
   ]
  },
  {
   "cell_type": "code",
   "execution_count": 93,
   "metadata": {},
   "outputs": [],
   "source": [
    "#CLUSTERING"
   ]
  },
  {
   "cell_type": "code",
   "execution_count": 94,
   "metadata": {},
   "outputs": [],
   "source": [
    "import sklearn\n",
    "from sklearn.feature_extraction.text import TfidfVectorizer\n",
    "from sklearn.cluster import KMeans\n",
    "import numpy as np\n",
    "from collections import defaultdict\n",
    "from nltk.probability import FreqDist\n",
    "from heapq import nlargest\n"
   ]
  },
  {
   "cell_type": "code",
   "execution_count": 95,
   "metadata": {},
   "outputs": [
    {
     "name": "stdout",
     "output_type": "stream",
     "text": [
      "already cleared cookies cache site still accessible. presumptuous answer.\n",
      "  (0, 14)\t0.519793378442015\n",
      "  (0, 207)\t0.4060783032559657\n",
      "  (0, 198)\t0.5428905037670378\n",
      "  (0, 10)\t0.519793378442015\n"
     ]
    }
   ],
   "source": [
    "vectorizer = TfidfVectorizer(max_df = 0.5, min_df = 3)\n",
    "X = vectorizer.fit_transform(comments)\n",
    "X\n",
    "print(comments[0])\n",
    "print(X[0])"
   ]
  },
  {
   "cell_type": "code",
   "execution_count": 96,
   "metadata": {},
   "outputs": [
    {
     "name": "stdout",
     "output_type": "stream",
     "text": [
      "Initialization complete\n",
      "Iteration 0, inertia 261.55197729780446\n",
      "Iteration 1, inertia 249.10940527103858\n",
      "Iteration 2, inertia 247.50397327502418\n",
      "Iteration 3, inertia 246.67296581245463\n",
      "Iteration 4, inertia 246.38034421433557\n",
      "Iteration 5, inertia 246.3257198548414\n",
      "Converged at iteration 5: strict convergence.\n"
     ]
    },
    {
     "data": {
      "text/plain": [
       "KMeans(max_iter=100, n_clusters=5, n_init=1, verbose=True)"
      ]
     },
     "execution_count": 96,
     "metadata": {},
     "output_type": "execute_result"
    }
   ],
   "source": [
    "km = KMeans(n_clusters = 5, init = 'k-means++', max_iter = 100, n_init = 1, verbose = True)\n",
    "km.fit(X)"
   ]
  },
  {
   "cell_type": "code",
   "execution_count": 97,
   "metadata": {},
   "outputs": [
    {
     "data": {
      "text/plain": [
       "{0: ['resolved',\n",
       "  'ticket',\n",
       "  'say',\n",
       "  '.',\n",
       "  'emailed',\n",
       "  'made',\n",
       "  'updates',\n",
       "  'responded',\n",
       "  'wasnt',\n",
       "  'received'],\n",
       " 1: ['fixed',\n",
       "  ',',\n",
       "  'problem',\n",
       "  'resolution',\n",
       "  '.',\n",
       "  'nothing',\n",
       "  'ongoing',\n",
       "  'courteous',\n",
       "  '!',\n",
       "  'issue'],\n",
       " 2: ['.',\n",
       "  ',',\n",
       "  'issue',\n",
       "  'ticket',\n",
       "  'resolved',\n",
       "  'problem',\n",
       "  'time',\n",
       "  'help',\n",
       "  'get',\n",
       "  '!'],\n",
       " 3: ['issue',\n",
       "  'work',\n",
       "  'resolve',\n",
       "  'rather',\n",
       "  'ended',\n",
       "  'providing',\n",
       "  'around.built',\n",
       "  'around',\n",
       "  'addressed'],\n",
       " 4: ['professional',\n",
       "  ',',\n",
       "  '.',\n",
       "  'courteous',\n",
       "  'support',\n",
       "  'representatives',\n",
       "  'times.personnel',\n",
       "  'professionaltimely',\n",
       "  'professionalrichard',\n",
       "  'tedesco']}"
      ]
     },
     "execution_count": 97,
     "metadata": {},
     "output_type": "execute_result"
    }
   ],
   "source": [
    "np.unique(km.labels_, return_counts = True)\n",
    "text = {}\n",
    "for i, cluster in enumerate(km.labels_):\n",
    "    comment = comments[i]\n",
    "    if cluster not in text.keys():\n",
    "        text[cluster] = comment\n",
    "    else: \n",
    "        text[cluster] += comment\n",
    "keywords = {}\n",
    "counts = {}\n",
    "for cluster in range(5):\n",
    "    word_sent = word_tokenize(text[cluster].lower())\n",
    "    frq = FreqDist(word_sent)\n",
    "    keywords[cluster] = nlargest(10, frq, key=frq.get)\n",
    "    counts[cluster] = frq\n",
    "keywords"
   ]
  },
  {
   "cell_type": "code",
   "execution_count": 3,
   "metadata": {},
   "outputs": [],
   "source": [
    "###Training Data - Sentiment Analysis\n",
    "#1. Find pre-existing positive and negative datasets for reviews/comments\n",
    "#2. Use that as training data\n",
    "#3. Define vocabulary of training data (set of all words)\n",
    "#4. Extract features/create word tuples : (review, label)\n",
    "#5. Train and create a classifier using nltk\n",
    "#6. Classify test (actual) comments into positive and negative"
   ]
  },
  {
   "cell_type": "markdown",
   "metadata": {},
   "source": [
    "Could classify all of the data at once, then do it for each category\n",
    "-Show overall positive:negative ratio of comments\n",
    "-Show positive:negative ratio of comments in each category and compare to see which categories need improvement "
   ]
  },
  {
   "cell_type": "code",
   "execution_count": 2,
   "metadata": {},
   "outputs": [
    {
     "data": {
      "text/html": [
       "<div>\n",
       "<style scoped>\n",
       "    .dataframe tbody tr th:only-of-type {\n",
       "        vertical-align: middle;\n",
       "    }\n",
       "\n",
       "    .dataframe tbody tr th {\n",
       "        vertical-align: top;\n",
       "    }\n",
       "\n",
       "    .dataframe thead th {\n",
       "        text-align: right;\n",
       "    }\n",
       "</style>\n",
       "<table border=\"1\" class=\"dataframe\">\n",
       "  <thead>\n",
       "    <tr style=\"text-align: right;\">\n",
       "      <th></th>\n",
       "      <th>Applied filters:\\nDate is on or after 4/1/21 and is before 5/1/21\\nDate 4/1/2021 - 4/30/2021</th>\n",
       "      <th>Unnamed: 1</th>\n",
       "      <th>Unnamed: 2</th>\n",
       "      <th>Unnamed: 3</th>\n",
       "      <th>Unnamed: 4</th>\n",
       "      <th>Unnamed: 5</th>\n",
       "      <th>Unnamed: 6</th>\n",
       "      <th>Unnamed: 7</th>\n",
       "      <th>Unnamed: 8</th>\n",
       "      <th>Unnamed: 9</th>\n",
       "      <th>Unnamed: 10</th>\n",
       "      <th>Unnamed: 11</th>\n",
       "      <th>Unnamed: 12</th>\n",
       "      <th>Unnamed: 13</th>\n",
       "    </tr>\n",
       "  </thead>\n",
       "  <tbody>\n",
       "    <tr>\n",
       "      <th>0</th>\n",
       "      <td>NaN</td>\n",
       "      <td>NaN</td>\n",
       "      <td>NaN</td>\n",
       "      <td>NaN</td>\n",
       "      <td>NaN</td>\n",
       "      <td>NaN</td>\n",
       "      <td>NaN</td>\n",
       "      <td>NaN</td>\n",
       "      <td>NaN</td>\n",
       "      <td>NaN</td>\n",
       "      <td>NaN</td>\n",
       "      <td>NaN</td>\n",
       "      <td>NaN</td>\n",
       "      <td>NaN</td>\n",
       "    </tr>\n",
       "    <tr>\n",
       "      <th>1</th>\n",
       "      <td>Date</td>\n",
       "      <td>Assignee</td>\n",
       "      <td>Customer Email</td>\n",
       "      <td>IncidentId</td>\n",
       "      <td>NPS</td>\n",
       "      <td>Sum of Courtesy</td>\n",
       "      <td>Sum of Effectiveness</td>\n",
       "      <td>Sum of Timeliness</td>\n",
       "      <td>Sum of Understanding</td>\n",
       "      <td>Courtesy Comments</td>\n",
       "      <td>Effectiveness Comments</td>\n",
       "      <td>Timeliness Comments</td>\n",
       "      <td>Understanding Comments</td>\n",
       "      <td>NPS Comment</td>\n",
       "    </tr>\n",
       "    <tr>\n",
       "      <th>2</th>\n",
       "      <td>2021-04-30 00:00:00</td>\n",
       "      <td>Andrew J Taylor</td>\n",
       "      <td>David.Pitzus@LibertyGlobalGroup.com</td>\n",
       "      <td>INC000010137909</td>\n",
       "      <td>0</td>\n",
       "      <td>10</td>\n",
       "      <td>10</td>\n",
       "      <td>9</td>\n",
       "      <td>10</td>\n",
       "      <td>NaN</td>\n",
       "      <td>NaN</td>\n",
       "      <td>NaN</td>\n",
       "      <td>NaN</td>\n",
       "      <td>No changes are needed taking into account the ...</td>\n",
       "    </tr>\n",
       "    <tr>\n",
       "      <th>3</th>\n",
       "      <td>2021-04-30 00:00:00</td>\n",
       "      <td>Austin McGuire</td>\n",
       "      <td>John.Price@LibertyGlobalGroup.com</td>\n",
       "      <td>INC000010130617</td>\n",
       "      <td>0</td>\n",
       "      <td>9</td>\n",
       "      <td>0</td>\n",
       "      <td>0</td>\n",
       "      <td>0</td>\n",
       "      <td>NaN</td>\n",
       "      <td>No next steps were suggested. I still dont hav...</td>\n",
       "      <td>I still have the problem. All solutions so far...</td>\n",
       "      <td>Complete waste of time. I still have the issue...</td>\n",
       "      <td>Sort out the way AO is delivered. There are tw...</td>\n",
       "    </tr>\n",
       "    <tr>\n",
       "      <th>4</th>\n",
       "      <td>2021-04-30 00:00:00</td>\n",
       "      <td>Nicholas Puchtler</td>\n",
       "      <td>Ravi.Rawat@libertymutual.com</td>\n",
       "      <td>INC000010131682</td>\n",
       "      <td>0</td>\n",
       "      <td>8</td>\n",
       "      <td>0</td>\n",
       "      <td>0</td>\n",
       "      <td>0</td>\n",
       "      <td>My issue has not resolved and you people send ...</td>\n",
       "      <td>Didnt get any solution. Today is 8th day</td>\n",
       "      <td>Very poor efficiency to resolve the problem</td>\n",
       "      <td>Not able to understand my issue because I repo...</td>\n",
       "      <td>At least send an email to user regarding what ...</td>\n",
       "    </tr>\n",
       "  </tbody>\n",
       "</table>\n",
       "</div>"
      ],
      "text/plain": [
       "  Applied filters:\\nDate is on or after 4/1/21 and is before 5/1/21\\nDate 4/1/2021 - 4/30/2021  \\\n",
       "0                                                NaN                                             \n",
       "1                                               Date                                             \n",
       "2                                2021-04-30 00:00:00                                             \n",
       "3                                2021-04-30 00:00:00                                             \n",
       "4                                2021-04-30 00:00:00                                             \n",
       "\n",
       "          Unnamed: 1                           Unnamed: 2       Unnamed: 3  \\\n",
       "0                NaN                                  NaN              NaN   \n",
       "1           Assignee                       Customer Email       IncidentId   \n",
       "2    Andrew J Taylor  David.Pitzus@LibertyGlobalGroup.com  INC000010137909   \n",
       "3     Austin McGuire    John.Price@LibertyGlobalGroup.com  INC000010130617   \n",
       "4  Nicholas Puchtler         Ravi.Rawat@libertymutual.com  INC000010131682   \n",
       "\n",
       "  Unnamed: 4       Unnamed: 5            Unnamed: 6         Unnamed: 7  \\\n",
       "0        NaN              NaN                   NaN                NaN   \n",
       "1        NPS  Sum of Courtesy  Sum of Effectiveness  Sum of Timeliness   \n",
       "2          0               10                    10                  9   \n",
       "3          0                9                     0                  0   \n",
       "4          0                8                     0                  0   \n",
       "\n",
       "             Unnamed: 8                                         Unnamed: 9  \\\n",
       "0                   NaN                                                NaN   \n",
       "1  Sum of Understanding                                  Courtesy Comments   \n",
       "2                    10                                                NaN   \n",
       "3                     0                                                NaN   \n",
       "4                     0  My issue has not resolved and you people send ...   \n",
       "\n",
       "                                         Unnamed: 10  \\\n",
       "0                                                NaN   \n",
       "1                             Effectiveness Comments   \n",
       "2                                                NaN   \n",
       "3  No next steps were suggested. I still dont hav...   \n",
       "4           Didnt get any solution. Today is 8th day   \n",
       "\n",
       "                                         Unnamed: 11  \\\n",
       "0                                                NaN   \n",
       "1                                Timeliness Comments   \n",
       "2                                                NaN   \n",
       "3  I still have the problem. All solutions so far...   \n",
       "4        Very poor efficiency to resolve the problem   \n",
       "\n",
       "                                         Unnamed: 12  \\\n",
       "0                                                NaN   \n",
       "1                             Understanding Comments   \n",
       "2                                                NaN   \n",
       "3  Complete waste of time. I still have the issue...   \n",
       "4  Not able to understand my issue because I repo...   \n",
       "\n",
       "                                         Unnamed: 13  \n",
       "0                                                NaN  \n",
       "1                                        NPS Comment  \n",
       "2  No changes are needed taking into account the ...  \n",
       "3  Sort out the way AO is delivered. There are tw...  \n",
       "4  At least send an email to user regarding what ...  "
      ]
     },
     "execution_count": 2,
     "metadata": {},
     "output_type": "execute_result"
    }
   ],
   "source": [
    "import pandas as pd\n",
    "import nltk\n",
    "aprildata = pd.read_excel(r\"C:\\Users\\N1554738\\OneDrive - Liberty Mutual\\Desktop\\csat project\\CSAT All April Responses.xlsx\")\n",
    "aprildata.head()"
   ]
  },
  {
   "cell_type": "code",
   "execution_count": null,
   "metadata": {},
   "outputs": [],
   "source": []
  },
  {
   "cell_type": "code",
   "execution_count": null,
   "metadata": {},
   "outputs": [],
   "source": []
  }
 ],
 "metadata": {
  "kernelspec": {
   "display_name": "Python 3",
   "language": "python",
   "name": "python3"
  },
  "language_info": {
   "codemirror_mode": {
    "name": "ipython",
    "version": 3
   },
   "file_extension": ".py",
   "mimetype": "text/x-python",
   "name": "python",
   "nbconvert_exporter": "python",
   "pygments_lexer": "ipython3",
   "version": "3.8.5"
  }
 },
 "nbformat": 4,
 "nbformat_minor": 4
}
