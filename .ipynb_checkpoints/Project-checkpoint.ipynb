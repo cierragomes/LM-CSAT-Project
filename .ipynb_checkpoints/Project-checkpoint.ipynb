{
 "cells": [
  {
   "cell_type": "code",
   "execution_count": null,
   "metadata": {},
   "outputs": [],
   "source": []
  },
  {
   "cell_type": "code",
   "execution_count": 352,
   "metadata": {},
   "outputs": [
    {
     "name": "stdout",
     "output_type": "stream",
     "text": [
      "hello world\n"
     ]
    }
   ],
   "source": [
    "import nltk\n",
    "print('hello world')"
   ]
  },
  {
   "cell_type": "code",
   "execution_count": 353,
   "metadata": {},
   "outputs": [
    {
     "name": "stdout",
     "output_type": "stream",
     "text": [
      "foo\n"
     ]
    }
   ],
   "source": [
    "def foo():\n",
    "    print('foo')\n",
    "foo()"
   ]
  },
  {
   "cell_type": "code",
   "execution_count": 354,
   "metadata": {},
   "outputs": [
    {
     "name": "stdout",
     "output_type": "stream",
     "text": [
      "# of courtesy comments: 10\n",
      "# of effectiveness comments: 17\n",
      "# of timeliness comments: 24\n",
      "# of understanding comments: 13\n",
      "# of nps comments: 148\n",
      "# of comments: 212\n"
     ]
    }
   ],
   "source": [
    "import pandas\n",
    "#pandas.read_excel(r'C:\\Users\\n1555085\\Downloads\\Copy of CSAT Help hub April Responses.xlsx')\n",
    "sheet = pandas.read_excel(r'C:\\Users\\n1555085\\Downloads\\May Help Hub Data.xlsx')\n",
    "courtesy = sheet['Unnamed: 9'].dropna().values.tolist()[1:]\n",
    "effectiveness = sheet['Unnamed: 10'].dropna().values.tolist()[1:]\n",
    "timeliness = sheet['Unnamed: 11'].dropna().values.tolist()[1:]\n",
    "understanding = sheet['Unnamed: 12'].dropna().values.tolist()[1:]\n",
    "nps = sheet['Unnamed: 13'].dropna().values.tolist()[1:]\n",
    "comments = courtesy + effectiveness + timeliness + understanding + nps\n",
    "date = sheet['Unnamed: 1'].dropna().values.tolist()[1:]\n",
    "#should add completion rate\n",
    "\n",
    "print(f'# of courtesy comments: {len(courtesy)}')\n",
    "print(f'# of effectiveness comments: {len(effectiveness)}')\n",
    "print(f'# of timeliness comments: {len(timeliness)}')\n",
    "print(f'# of understanding comments: {len(understanding)}')\n",
    "print(f'# of nps comments: {len(nps)}')\n",
    "print(f'# of comments: {len(comments)}')"
   ]
  },
  {
   "cell_type": "code",
   "execution_count": 355,
   "metadata": {},
   "outputs": [
    {
     "name": "stdout",
     "output_type": "stream",
     "text": [
      "hi\n"
     ]
    }
   ],
   "source": [
    "print('hi')"
   ]
  },
  {
   "cell_type": "code",
   "execution_count": 356,
   "metadata": {},
   "outputs": [
    {
     "name": "stdout",
     "output_type": "stream",
     "text": [
      "4553 1574\n"
     ]
    },
    {
     "data": {
      "text/plain": [
       "['Spenser Cameron set assisted issues. exceptional trying assist newcomer new systems.',\n",
       " 'second consultant awesome appropriate follow well letting know break fix consultants suggestion since could not receive emails. best.',\n",
       " 'support personnel helpful patient issue',\n",
       " 'fast service.',\n",
       " 'Greeting robotic, however loosened conversation went on.']"
      ]
     },
     "execution_count": 356,
     "metadata": {},
     "output_type": "execute_result"
    }
   ],
   "source": [
    "#read from corpus, remove stopwords\n",
    "from nltk.corpus import stopwords\n",
    "from string import punctuation\n",
    "\n",
    "with open(r'C:\\Users\\n1555085\\Downloads\\Project\\positiveComments.txt', 'r') as f:\n",
    "    posReviews = f.readlines()\n",
    "with open(r'C:\\Users\\n1555085\\Downloads\\Project\\negativeComments.txt', 'r') as f:\n",
    "    negReviews = f.readlines()\n",
    "print(len(posReviews), len(negReviews))\n",
    "\n",
    "sw = set(stopwords.words('english') + list(punctuation))\n",
    "notStopwords = ['not', 'no', '!', 'but', 'too', 'have', 'had']\n",
    "\n",
    "def removeStopwords(review):\n",
    "    #review.translate(None, string.punctuation)\n",
    "    return ' '.join([word for word in review.split() if word.lower() not in sw or word.lower() in notStopwords])\n",
    "posReviews = list(filter(lambda s: s , list(map(removeStopwords, posReviews))))\n",
    "negReviews = list(filter(lambda s: s , list(map(removeStopwords, negReviews))))\n",
    "\n",
    "posReviews[0:5]\n",
    "#negReviews[0:5]"
   ]
  },
  {
   "cell_type": "code",
   "execution_count": 357,
   "metadata": {},
   "outputs": [],
   "source": [
    "#define pos and neg bag-of words, and vocabulary\n",
    "\n",
    "posWords = [word.lower() for review in posReviews for word in review.split()]\n",
    "negWords = [word.lower() for review in negReviews for word in review.split()]\n",
    "vocabulary = list(set(posWords + negWords))\n",
    "#vocabulary[0:100]"
   ]
  },
  {
   "cell_type": "code",
   "execution_count": 358,
   "metadata": {},
   "outputs": [],
   "source": [
    "#define training data: list of (review list of words, label) tuples\n",
    "trainingData = [(r.split(), 'pos') for r in posReviews] + [(r.split(), 'neg') for r in negReviews]"
   ]
  },
  {
   "cell_type": "code",
   "execution_count": 359,
   "metadata": {},
   "outputs": [],
   "source": [
    "#NAIVE BAYES CLASSIFIER: extract feature vector from each review, train classifier\n",
    "def featureVector(reviewSplit):\n",
    "    reviewWords = set(reviewSplit)\n",
    "    features = {}\n",
    "    for word in vocabulary:\n",
    "        features[word] = word in reviewWords\n",
    "    return features\n",
    "\n",
    "naiveBayesClassifier = nltk.NaiveBayesClassifier.train(nltk.classify.apply_features(featureVector, trainingData))\n",
    "\n",
    "#classify functions\n",
    "def NBclassify(review):\n",
    "    review = removeStopwords(review)\n",
    "    features = featureVector(review.split())\n",
    "    probDist = naiveBayesClassifier.prob_classify(features)\n",
    "    confidence = max(probDist.prob('pos'), probDist.prob('neg'))\n",
    "    #pos and neg add to 1\n",
    "    return (naiveBayesClassifier.classify(features).upper(), confidence)\n",
    "\n",
    "def NBclassifyComments(comments):\n",
    "    return [(c, NBclassify(c)) for c in comments]"
   ]
  },
  {
   "cell_type": "code",
   "execution_count": 360,
   "metadata": {},
   "outputs": [],
   "source": [
    "NBlabeledComments = NBclassifyComments(effectiveness)"
   ]
  },
  {
   "cell_type": "code",
   "execution_count": 361,
   "metadata": {},
   "outputs": [],
   "source": [
    "#SVM Classifier\n",
    "from sklearn.feature_extraction.text import TfidfVectorizer\n",
    "from sklearn.svm import SVC\n",
    "\n",
    "#vectorizer = TfidfVectorizer(min_df = 5, max_df = 0.8, sublinear_tf = True, use_idf = True, ngram_range=(1, 2))\n",
    "vectorizer = CountVectorizer(ngram_range=(1, 2), token_pattern=r'\\b\\w+\\b', min_df=1)\n",
    "train_vectors = vectorizer.fit_transform(posReviews + negReviews)\n",
    "labelsList = ['pos'] * len(posReviews) + ['neg'] * len(negReviews)\n",
    "\n",
    "classifier_linear = SVC(kernel='linear', probability = True)\n",
    "classifier_linear.fit(train_vectors, labelsList)\n",
    "\n",
    "classifier_poly = SVC(kernel='poly', probability = True)\n",
    "classifier_poly.fit(train_vectors, labelsList)\n",
    "\n",
    "classifier_rbf = SVC(kernel='rbf', probability = True)\n",
    "classifier_rbf.fit(train_vectors, labelsList)\n",
    "\n",
    "classifier_sigmoid = SVC(kernel='sigmoid', probability = True)\n",
    "classifier_sigmoid.fit(train_vectors, labelsList)\n",
    "\n",
    "# svm kernel can be ‘linear’, ‘poly’, ‘rbf’, or ‘sigmoid’\n",
    "def SVMclassify(review, kernel):\n",
    "    review = removeStopwords(review)\n",
    "    review_vector = vectorizer.transform([review]) # vectorizing\n",
    "    if kernel == 'linear':\n",
    "        return (classifier_linear.predict(review_vector)[0], max(classifier_rbf.predict_proba(review_vector)[0]))\n",
    "    elif kernel == 'poly':\n",
    "        return (classifier_poly.predict(review_vector)[0], max(classifier_rbf.predict_proba(review_vector)[0]))\n",
    "    elif kernel == 'rbf':\n",
    "        return (classifier_rbf.predict(review_vector)[0], max(classifier_rbf.predict_proba(review_vector)[0]))\n",
    "    elif kernel == 'sigmoid':\n",
    "        return (classifier_sigmoid.predict(review_vector)[0], max(classifier_rbf.predict_proba(review_vector)[0]))\n",
    "    return None\n",
    "\n",
    "def SVMclassifyComments(comments, kernel):\n",
    "    return [(c, SVMclassify(c, kernel)) for c in comments]"
   ]
  },
  {
   "cell_type": "code",
   "execution_count": 362,
   "metadata": {},
   "outputs": [],
   "source": [
    "#Labelling new data\n",
    "SVMlabelledComments = SVMclassifyComments(comments, 'rbf')\n",
    "labelledPos = []\n",
    "labelledNeg = []\n",
    "#lc is (<comment>, (<pos/neg>, <confidence>))\n",
    "for lc in SVMlabelledComments:\n",
    "    if lc[1][0] == 'pos':\n",
    "        labelledPos.append(lc[0])\n",
    "    elif lc[1][0] == 'neg':\n",
    "        labelledNeg.append(lc[0])\n",
    "#remove stopwords\n",
    "labelledPos = list(filter(lambda s: s , list(map(removeStopwords, labelledPos))))\n",
    "labelledNeg = list(filter(lambda s: s , list(map(removeStopwords, labelledNeg))))"
   ]
  },
  {
   "cell_type": "code",
   "execution_count": 363,
   "metadata": {},
   "outputs": [
    {
     "name": "stdout",
     "output_type": "stream",
     "text": [
      "\n",
      "Topic 1:  [('issue', 1.41), ('resolved', 0.99), ('solved', 0.45), ('great', 0.4), ('service', 0.36), ('problem', 0.3), ('timely', 0.24), ('contacted', 0.24), ('quickly', 0.24), ('completely', 0.24), ('support', 0.2), ('fix', 0.19), ('friendly', 0.17), ('polite', 0.17), ('time', 0.17), ('help', 0.17), ('without', 0.17), ('courteous', 0.16), ('helpful', 0.16), ('first', 0.16), ('resolve', 0.15), ('it', 0.15), ('ticket', 0.14), ('work', 0.14), ('job', 0.14), ('late', 0.13), ('professional', 0.13), ('speed', 0.13), ('able', 0.13), ('addressed', 0.12), ('actually', 0.12), ('employees', 0.12), ('took', 0.11), ('needed', 0.11), ('request', 0.11), ('had', 0.11), ('but', 0.11), ('right', 0.11), ('kind', 0.11), ('understood', 0.11), ('worked', 0.1), ('understand', 0.1), ('away', 0.1), ('hub', 0.1), ('assist', 0.1), ('reached', 0.09), ('hd', 0.09), ('delay', 0.09), ('call', 0.09), ('manner', 0.09)]\n",
      "\n",
      "Topic 2:  [('quick', 1.54), ('response', 1.09), ('efficient', 0.99), ('resolution', 0.87), ('solution', 0.28), ('easy', 0.19), ('clear', 0.19), ('follow', 0.18), ('help', 0.18), ('fix', 0.18), ('rapid', 0.17), ('expertise', 0.16), ('fixed', 0.13), ('via', 0.13), ('etc', 0.13), ('thanks', 0.11), ('assistance', 0.11), ('would', 0.1), ('friendly', 0.1), ('swift', 0.1), ('pleasant', 0.09), ('email', 0.09), ('had', 0.08), ('quicker', 0.08), ('proactive', 0.07), ('canned', 0.07), ('min', 0.07), ('nice', 0.07), ('exactly', 0.07), ('teams', 0.07), ('call', 0.06), ('fast', 0.06), ('handled', 0.06), ('one', 0.06), ('issues', 0.06), ('knew', 0.06), ('contact', 0.06), ('ms', 0.06), ('but', 0.06), ('immediate', 0.05), ('question', 0.05), ('turn', 0.05), ('provided', 0.04), ('30', 0.04), ('took', 0.04), ('within', 0.04), ('around', 0.04), ('fit', 0.04), ('purpose', 0.04), ('im', 0.04)]\n"
     ]
    }
   ],
   "source": [
    "from sklearn.feature_extraction.text import TfidfVectorizer\n",
    "from sklearn.decomposition import NMF\n",
    "\n",
    "def get_topics(components, feature_names, n=50):\n",
    "    for idx, topic in enumerate(components):\n",
    "        print(\"\\nTopic %d: \" % (idx+1), [(feature_names[i], topic[i].round(2)) for i in topic.argsort()[:-n - 1:-1]])\n",
    "        \n",
    "v = TfidfVectorizer(max_features=1000) \n",
    "X = v.fit_transform(labelledPos)\n",
    "\n",
    "nmf_model = NMF(n_components=2, init='random', random_state=0)\n",
    "nmf_top = nmf_model.fit_transform(X)\n",
    "\n",
    "terms = v.get_feature_names() \n",
    "get_topics(nmf_model.components_,terms)\n",
    "nmf_model.components_\n",
    "\n",
    "for idx, topic in enumerate(nmf_model.components_):\n",
    "    if idx == 0:\n",
    "        topic_x = [(terms[i], topic[i].round(2)) for i in topic.argsort()[:-1000 - 1:-1]]\n",
    "        topic_x = {i[0]:i[1] for i in topic_x}\n",
    "#wordcloud = WordCloud(width = 3000, height = 3000, stopwords=STOPWORDS, background_color=\"white\", min_font_size = 30)\n",
    "#wordcloud = wordcloud.generate_from_frequencies(topic_x)"
   ]
  },
  {
   "cell_type": "code",
   "execution_count": 385,
   "metadata": {},
   "outputs": [],
   "source": [
    "#wordcloud stuff\n",
    "from wordcloud import WordCloud\n",
    "import matplotlib.pyplot as plt\n",
    "\n",
    "cloudStopwords = set(stopwords.words('english') + list(punctuation) + ['resolve', 'resolved', 'resolution', 'issue', 'problem', 'solve'])\n",
    "\n",
    "#calculates word frequencies for generating wordcloud\n",
    "#parameter should be list of comments, returns dictionary\n",
    "def wordFrequencies(commentList):\n",
    "    dictionary = {}\n",
    "    words = ' '.join(commentList).lower().split()\n",
    "    for w in words:\n",
    "        if w not in dictionary and w not in cloudStopwords:\n",
    "            dictionary[w] = words.count(w)\n",
    "    return dictionary\n",
    "\n",
    "def customWordFrequencies(commentList, customWords):\n",
    "    dictionary = {}\n",
    "    words = ' '.join(commentList).lower().split()\n",
    "    for w in words:\n",
    "        if w in customWords and w not in cloudStopwords:\n",
    "            dictionary[w] = words.count(w)\n",
    "    return dictionary"
   ]
  },
  {
   "cell_type": "code",
   "execution_count": 365,
   "metadata": {},
   "outputs": [
    {
     "data": {
      "text/plain": [
       "<Figure size 2160x2160 with 0 Axes>"
      ]
     },
     "execution_count": 365,
     "metadata": {},
     "output_type": "execute_result"
    },
    {
     "data": {
      "image/png": "[encoded data removed]",
      "text/plain": [
       "<Figure size 432x288 with 1 Axes>"
      ]
     },
     "metadata": {
      "needs_background": "light"
     },
     "output_type": "display_data"
    },
    {
     "data": {
      "text/plain": [
       "<Figure size 2160x2160 with 0 Axes>"
      ]
     },
     "metadata": {},
     "output_type": "display_data"
    }
   ],
   "source": [
    "posCloud = WordCloud(width = 2000, height = 2000, background_color=\"white\", min_font_size = 30)\n",
    "posCloud.generate_from_frequencies(wordFrequencies(labelledPos))\n",
    "\n",
    "negCloud = WordCloud(width = 2000, height = 2000, background_color=\"white\", min_font_size = 30)\n",
    "negCloud.generate_from_frequencies(wordFrequencies(labelledNeg))\n",
    "\n",
    "#posCloud.to_file(\"positive_comments_wc.png\")\n",
    "#negCloud.to_file(\"negative_comments_wc.png\")\n",
    "\n",
    "plt.axis(\"off\")\n",
    "plt.figure(figsize=(30, 30))"
   ]
  },
  {
   "cell_type": "code",
   "execution_count": 386,
   "metadata": {},
   "outputs": [],
   "source": [
    "#Clustering Stuff\n",
    "from sklearn.cluster import KMeans\n",
    "import numpy as np\n",
    "from nltk.tokenize import sent_tokenize, word_tokenize\n",
    "from nltk.probability import FreqDist\n",
    "from collections import defaultdict\n",
    "from heapq import nlargest\n",
    "\n",
    "tfidf = TfidfVectorizer(min_df = 5, max_df = 0.8, sublinear_tf = True, use_idf = True, ngram_range=(1, 2))\n",
    "\n",
    "#uses KMeans algorithm to cluster comments into 3 numClusters\n",
    "#takes in comment list and number of clusters as param\n",
    "#returns dictionary of clusters (cluster number key : list of comments value)\n",
    "def clusterComments(comments, numClusters):\n",
    "    x = tfidf.fit_transform(comments)\n",
    "    km = KMeans(n_clusters = numClusters, init = 'k-means++', max_iter = 100, n_init = 1, verbose = True)\n",
    "    km.fit(x)\n",
    "    np.unique(km.labels_, return_counts = True)\n",
    "    dictionary = {}\n",
    "    for i,cluster in enumerate(km.labels_):\n",
    "        c = comments[i]\n",
    "        if cluster not in dictionary.keys():\n",
    "            dictionary[cluster] = c\n",
    "        else:\n",
    "            dictionary[cluster] += c\n",
    "    return dictionary\n",
    "\n",
    "#takes in result of clusterComments\n",
    "#returns dictionary of <cluster : keywords>\n",
    "def findKeywords(dictionary):\n",
    "    keywords = {}\n",
    "    for cluster in range(len(dictionary)):\n",
    "        word_sent = word_tokenize(text[cluster].lower())\n",
    "        freq = FreqDist(word_sent)\n",
    "        keywords[cluster] = nlargest(100, freq, key=freq.get)\n",
    "    return keywords\n",
    "\n",
    "#takes in result of clusterComments\n",
    "#returns dictionary of <cluster : keywords>\n",
    "def findUniqueKeywords(dictionary):\n",
    "    uniqueKeywords = {}\n",
    "    keywords = findKeywords(dictionary)\n",
    "    for cluster in range(len(dictionary)):\n",
    "        other_clusters = list(set(range(len(dictionary))) - set([cluster]))\n",
    "        keywords_other_clusters = set([])\n",
    "        for i in range(len(other_clusters)):\n",
    "            keywords_other_clusters = keywords_other_clusters.union(set(keywords[other_clusters[i]]))\n",
    "        unique = set(keywords[cluster]) - keywords_other_clusters\n",
    "        uniqueKeywords[cluster] = nlargest(100, unique, key=counts[cluster].get)\n",
    "    return uniqueKeywords\n",
    "\n",
    "#keywords is dictionary<int : [str]>\n",
    "#uniqueKeys is dictionary<int : [str]>\n",
    "#counts is dictionary<int : FreqDist>\n",
    "\n",
    "#takes in a dictionary of <cluster : keywords> as argument\n",
    "#returns nothing, just generates wordclouds for each cluster\n",
    "def generateClusterClouds(comments, numClusters):\n",
    "    clusterCommentsDictionary = clusterComments(comments, numClusters)\n",
    "    clusterKeywordDictionary = findKeywords(clusterCommentsDictionary)\n",
    "    for cluster in clusterKeywordDictionary:\n",
    "        customCloud = WordCloud(width = 2000, height = 2000, background_color=\"white\", min_font_size = 30)\n",
    "        \n",
    "        commentsOfCluster = clusterCommentsDictionary[cluster]\n",
    "        #print(commentsOfCluster)\n",
    "        customWords = clusterKeywordDictionary[cluster]\n",
    "        print(customWords)\n",
    "        \n",
    "        frequencies = customWordFrequencies(commentsOfCluster, customWords)\n",
    "        print(frequencies)\n",
    "        \n",
    "        customCloud.generate_from_frequencies(frequencies)\n",
    "        plt.imshow(customCloud, interpolation=\"bilinear\")\n",
    "        plt.show()"
   ]
  },
  {
   "cell_type": "code",
   "execution_count": 390,
   "metadata": {},
   "outputs": [
    {
     "name": "stdout",
     "output_type": "stream",
     "text": [
      "Initialization complete\n",
      "Iteration 0, inertia 275.2452316980838\n",
      "Iteration 1, inertia 133.07424267964342\n",
      "Iteration 2, inertia 132.55557664109077\n",
      "Iteration 3, inertia 132.43409669942707\n",
      "Converged at iteration 3: strict convergence.\n",
      "['resolution', ',', 'response', '.', 'via', 'quick', 'efficient', '!', 'email', 'teams', 'would', 'access', 'thanks', 'issue', 'canned', 'response.would', 'great', 'quickerhd', 'reached', 'im', 'meetings', 'seems', 'inefficient', 'check', 'status', 'let', 'know', 'available.quick', 'clear.quick', 'turn', 'around', 'knew', 'exactlyfaster', 'simple', 'requests', 'week', 'wait', 'basic', 'required', 'system', 'role', 'unacceptable', 'intentional', 'action', 'group', 'processes', 'request.quick', 'helpquicker', 'bestquick', 'resolutionquick', 'proactive', 'nicequick', 'followquick', 'fix', 'response/resolutionquick', 'efficientquick', 'expertisequick', 'regarding', 'appraisal', 'well', 'answer', 'additional', 'question', 'hadcontact', 'quickly', 'ms', 'message', 'excellent', 'communication', 'expectations.quick', 'friendly', 'assistancequick', '2', 'issues', 'handled', 'one', 'call', 'immediate', 'within', '30', 'minincredible', 'swift', 'coupled', 'sherri', 'snowâ€™s', 'follow', 'clear', 'explanation', 'made', 'among', 'pleasant', 'experiences', 'iâ€™ve', 'had', 'interacting', 'it', 'solution', 'etcquick', 'resolutionresolution', 'took']\n",
      "{'2': 3}\n"
     ]
    },
    {
     "data": {
      "image/png": "[encoded data removed]",
      "text/plain": [
       "<Figure size 432x288 with 1 Axes>"
      ]
     },
     "metadata": {
      "needs_background": "light"
     },
     "output_type": "display_data"
    },
    {
     "name": "stdout",
     "output_type": "stream",
     "text": [
      "['issue', ',', '.', 'resolved', '!', 'quickly', 'timely', 'resolve', 'without', 'hub', 'but', 'job', 'worked', 'lm', 'work', 'manner', 'result', 'solution', 'help', 'step', 'care', 'ticket', 'submitted', 'professional', 'it', 'mohammed', 'large', 'gap', 'escalated', 'resolvedn/a', 'hd', 'assistcreated', 'tech', 'request', '4/30', '5/25.contacted', 'late', 'resolved.rep', 'reached', 'via', 'msteams', 'explanation', 'situation', 'unnecessary', 'explain', 'resolvedal', 'cole', 'great', 'nice', 'within', 'minutes', 'call.alex', 'important', 'impacting', 'contractors', 'ability', 'access', 'applications', 'files.actually', 'issue.solved', 'issuefound', 'able', 'finish', 'processing', 'worksupport', 'had', 'video', 'conversion', 'addressed', 'timely.1.', 'completely', '2.', 'knew', '3.', 'kind/pleasant', 'experience', 'thanks', 'christopher', 'henry', 'way', 'go', 'look', 'causing', 'first', 'place', 'try', 'phonetook', 'really', 'pretty', 'much', 'no', 'assistance', 'me', 'felt', 'good', 'put', 'watch', 'get', 'taken', 'of.info']\n",
      "{}\n"
     ]
    },
    {
     "ename": "ValueError",
     "evalue": "We need at least 1 word to plot a word cloud, got 0.",
     "output_type": "error",
     "traceback": [
      "\u001b[1;31m---------------------------------------------------------------------------\u001b[0m",
      "\u001b[1;31mValueError\u001b[0m                                Traceback (most recent call last)",
      "\u001b[1;32m<ipython-input-390-0fa1cac45184>\u001b[0m in \u001b[0;36m<module>\u001b[1;34m\u001b[0m\n\u001b[1;32m----> 1\u001b[1;33m \u001b[0mgenerateClusterClouds\u001b[0m\u001b[1;33m(\u001b[0m\u001b[0mlabelledPos\u001b[0m\u001b[1;33m,\u001b[0m \u001b[1;36m2\u001b[0m\u001b[1;33m)\u001b[0m\u001b[1;33m\u001b[0m\u001b[1;33m\u001b[0m\u001b[0m\n\u001b[0m",
      "\u001b[1;32m<ipython-input-386-06e9a86986ae>\u001b[0m in \u001b[0;36mgenerateClusterClouds\u001b[1;34m(comments, numClusters)\u001b[0m\n\u001b[0;32m     70\u001b[0m         \u001b[0mprint\u001b[0m\u001b[1;33m(\u001b[0m\u001b[0mfrequencies\u001b[0m\u001b[1;33m)\u001b[0m\u001b[1;33m\u001b[0m\u001b[1;33m\u001b[0m\u001b[0m\n\u001b[0;32m     71\u001b[0m \u001b[1;33m\u001b[0m\u001b[0m\n\u001b[1;32m---> 72\u001b[1;33m         \u001b[0mcustomCloud\u001b[0m\u001b[1;33m.\u001b[0m\u001b[0mgenerate_from_frequencies\u001b[0m\u001b[1;33m(\u001b[0m\u001b[0mfrequencies\u001b[0m\u001b[1;33m)\u001b[0m\u001b[1;33m\u001b[0m\u001b[1;33m\u001b[0m\u001b[0m\n\u001b[0m\u001b[0;32m     73\u001b[0m         \u001b[0mplt\u001b[0m\u001b[1;33m.\u001b[0m\u001b[0mimshow\u001b[0m\u001b[1;33m(\u001b[0m\u001b[0mcustomCloud\u001b[0m\u001b[1;33m,\u001b[0m \u001b[0minterpolation\u001b[0m\u001b[1;33m=\u001b[0m\u001b[1;34m\"bilinear\"\u001b[0m\u001b[1;33m)\u001b[0m\u001b[1;33m\u001b[0m\u001b[1;33m\u001b[0m\u001b[0m\n\u001b[0;32m     74\u001b[0m         \u001b[0mplt\u001b[0m\u001b[1;33m.\u001b[0m\u001b[0mshow\u001b[0m\u001b[1;33m(\u001b[0m\u001b[1;33m)\u001b[0m\u001b[1;33m\u001b[0m\u001b[1;33m\u001b[0m\u001b[0m\n",
      "\u001b[1;32mC:\\Program Files\\Anaconda3\\lib\\site-packages\\wordcloud\\wordcloud.py\u001b[0m in \u001b[0;36mgenerate_from_frequencies\u001b[1;34m(self, frequencies, max_font_size)\u001b[0m\n\u001b[0;32m    388\u001b[0m         \u001b[0mfrequencies\u001b[0m \u001b[1;33m=\u001b[0m \u001b[0msorted\u001b[0m\u001b[1;33m(\u001b[0m\u001b[0mfrequencies\u001b[0m\u001b[1;33m.\u001b[0m\u001b[0mitems\u001b[0m\u001b[1;33m(\u001b[0m\u001b[1;33m)\u001b[0m\u001b[1;33m,\u001b[0m \u001b[0mkey\u001b[0m\u001b[1;33m=\u001b[0m\u001b[0mitemgetter\u001b[0m\u001b[1;33m(\u001b[0m\u001b[1;36m1\u001b[0m\u001b[1;33m)\u001b[0m\u001b[1;33m,\u001b[0m \u001b[0mreverse\u001b[0m\u001b[1;33m=\u001b[0m\u001b[1;32mTrue\u001b[0m\u001b[1;33m)\u001b[0m\u001b[1;33m\u001b[0m\u001b[1;33m\u001b[0m\u001b[0m\n\u001b[0;32m    389\u001b[0m         \u001b[1;32mif\u001b[0m \u001b[0mlen\u001b[0m\u001b[1;33m(\u001b[0m\u001b[0mfrequencies\u001b[0m\u001b[1;33m)\u001b[0m \u001b[1;33m<=\u001b[0m \u001b[1;36m0\u001b[0m\u001b[1;33m:\u001b[0m\u001b[1;33m\u001b[0m\u001b[1;33m\u001b[0m\u001b[0m\n\u001b[1;32m--> 390\u001b[1;33m             raise ValueError(\"We need at least 1 word to plot a word cloud, \"\n\u001b[0m\u001b[0;32m    391\u001b[0m                              \"got %d.\" % len(frequencies))\n\u001b[0;32m    392\u001b[0m         \u001b[0mfrequencies\u001b[0m \u001b[1;33m=\u001b[0m \u001b[0mfrequencies\u001b[0m\u001b[1;33m[\u001b[0m\u001b[1;33m:\u001b[0m\u001b[0mself\u001b[0m\u001b[1;33m.\u001b[0m\u001b[0mmax_words\u001b[0m\u001b[1;33m]\u001b[0m\u001b[1;33m\u001b[0m\u001b[1;33m\u001b[0m\u001b[0m\n",
      "\u001b[1;31mValueError\u001b[0m: We need at least 1 word to plot a word cloud, got 0."
     ]
    }
   ],
   "source": [
    "generateClusterClouds(labelledPos, 2)"
   ]
  },
  {
   "cell_type": "code",
   "execution_count": null,
   "metadata": {},
   "outputs": [],
   "source": []
  },
  {
   "cell_type": "code",
   "execution_count": null,
   "metadata": {},
   "outputs": [],
   "source": []
  },
  {
   "cell_type": "code",
   "execution_count": null,
   "metadata": {},
   "outputs": [],
   "source": []
  },
  {
   "cell_type": "code",
   "execution_count": null,
   "metadata": {},
   "outputs": [],
   "source": [
    "'''To Do:\n",
    "cluster\n",
    "fix punctuation thing\n",
    "put as many things into functions as possible\n",
    "tweak model and training (different vectorizer, kernel, implementing stemming, stopwords)\n",
    "make interface'''"
   ]
  }
 ],
 "metadata": {
  "kernelspec": {
   "display_name": "Python 3",
   "language": "python",
   "name": "python3"
  },
  "language_info": {
   "codemirror_mode": {
    "name": "ipython",
    "version": 3
   },
   "file_extension": ".py",
   "mimetype": "text/x-python",
   "name": "python",
   "nbconvert_exporter": "python",
   "pygments_lexer": "ipython3",
   "version": "3.8.5"
  }
 },
 "nbformat": 4,
 "nbformat_minor": 4
}
