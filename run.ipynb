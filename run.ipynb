{
 "cells": [
  {
   "cell_type": "code",
   "execution_count": 1,
   "metadata": {},
   "outputs": [],
   "source": [
    "%run model.py"
   ]
  },
  {
   "cell_type": "code",
   "execution_count": null,
   "metadata": {},
   "outputs": [
    {
     "name": "stdout",
     "output_type": "stream",
     "text": [
      "Welcome to Customer Satisfaction Comment Analyzer\n",
      "\n",
      "\n",
      "CSAT Comment Analyzer Help:\n",
      "    rdxl <file path> - read all comments from excel sheet\n",
      "    clsfy - classify all comments from excel sheet\n",
      "    clsfycmt <comment> - classify a specific comment\n",
      "    wcp - generate wordcloud of positive-labeled comments\n",
      "    wcn - generate wordcloud of negative-labeled comments\n",
      "    help - print this help menu\n",
      "    about - print detailed description of this program and capabilities\n",
      "    quit - quit program\n",
      "\n",
      "\n",
      ">\n"
     ]
    }
   ],
   "source": [
    "%run tui.py #C:\\Users\\n1555085\\Downloads\\May_Help_Hub_Data.xlsx"
   ]
  },
  {
   "cell_type": "code",
   "execution_count": null,
   "metadata": {},
   "outputs": [],
   "source": []
  }
 ],
 "metadata": {
  "kernelspec": {
   "display_name": "Python 3",
   "language": "python",
   "name": "python3"
  },
  "language_info": {
   "codemirror_mode": {
    "name": "ipython",
    "version": 3
   },
   "file_extension": ".py",
   "mimetype": "text/x-python",
   "name": "python",
   "nbconvert_exporter": "python",
   "pygments_lexer": "ipython3",
   "version": "3.8.5"
  }
 },
 "nbformat": 4,
 "nbformat_minor": 4
}
