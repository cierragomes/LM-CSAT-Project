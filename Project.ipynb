{
 "cells": [
  {
   "cell_type": "code",
   "execution_count": 1,
   "metadata": {},
   "outputs": [
    {
     "name": "stdout",
     "output_type": "stream",
     "text": [
      "hello world\n"
     ]
    }
   ],
   "source": [
    "import nltk\n",
    "print('hello world')"
   ]
  },
  {
   "cell_type": "code",
   "execution_count": 2,
   "metadata": {},
   "outputs": [],
   "source": [
    "def foo():\n",
    "    print('foo')"
   ]
  },
  {
   "cell_type": "code",
   "execution_count": 3,
   "metadata": {},
   "outputs": [
    {
     "name": "stdout",
     "output_type": "stream",
     "text": [
      "foo\n"
     ]
    }
   ],
   "source": [
    "foo()"
   ]
  },
  {
   "cell_type": "code",
   "execution_count": 4,
   "metadata": {},
   "outputs": [],
   "source": [
    "import pandas\n",
    "#pandas.read_excel(r'C:\\Users\\n1555085\\Downloads\\Copy of CSAT Help hub April Responses.xlsx')\n",
    "sheet = pandas.read_excel(r'C:\\Users\\n1555085\\Downloads\\Copy of CSAT Help hub April Responses.xlsx')\n",
    "courtesy = sheet['Unnamed: 9'].dropna().values.tolist()[1:]\n",
    "effectiveness = sheet['Unnamed: 10'].dropna().values.tolist()[1:]\n",
    "timeliness = sheet['Unnamed: 11'].dropna().values.tolist()[1:]\n",
    "understanding = sheet['Unnamed: 12'].dropna().values.tolist()[1:]\n",
    "nps = sheet['Unnamed: 13'].dropna().values.tolist()[1:]\n",
    "comments = courtesy + effectiveness + timeliness + understanding + nps\n",
    "date = sheet['Unnamed: 1'].dropna().values.tolist()[1:]\n",
    "#should add completion rate"
   ]
  },
  {
   "cell_type": "code",
   "execution_count": 5,
   "metadata": {},
   "outputs": [
    {
     "name": "stdout",
     "output_type": "stream",
     "text": [
      "# of courtesy comments: 16\n",
      "# of effectiveness comments: 29\n",
      "# of timeliness comments: 35\n",
      "# of understanding comments: 29\n",
      "# of nps comments: 169\n",
      "# of comments: 278\n"
     ]
    }
   ],
   "source": [
    "print(f'# of courtesy comments: {len(courtesy)}')\n",
    "print(f'# of effectiveness comments: {len(effectiveness)}')\n",
    "print(f'# of timeliness comments: {len(timeliness)}')\n",
    "print(f'# of understanding comments: {len(understanding)}')\n",
    "print(f'# of nps comments: {len(nps)}')\n",
    "print(f'# of comments: {len(comments)}')"
   ]
  },
  {
   "cell_type": "code",
   "execution_count": 6,
   "metadata": {},
   "outputs": [
    {
     "name": "stdout",
     "output_type": "stream",
     "text": [
      "hi\n"
     ]
    }
   ],
   "source": [
    "print('hi')"
   ]
  },
  {
   "cell_type": "code",
   "execution_count": 7,
   "metadata": {},
   "outputs": [
    {
     "name": "stdout",
     "output_type": "stream",
     "text": [
      "5331 5331\n"
     ]
    },
    {
     "data": {
      "text/plain": [
       "[\"rock destined 21st century's new conan he's going make splash even greater arnold schwarzenegger jean-claud van damme steven segal\",\n",
       " \"gorgeously elaborate continuation lord rings trilogy huge column words cannot adequately describe co-writer/director peter jackson's expanded vision j r r tolkien's middle-earth\",\n",
       " 'effective too-tepid biopic',\n",
       " 'sometimes like go movies fun wasabi good place start',\n",
       " \"emerges something rare issue movie that's honest keenly observed feel like one\"]"
      ]
     },
     "execution_count": 7,
     "metadata": {},
     "output_type": "execute_result"
    }
   ],
   "source": [
    "#read from corpus, remove stopwords\n",
    "from nltk.corpus import stopwords\n",
    "from string import punctuation\n",
    "\n",
    "with open(r'C:\\Users\\n1555085\\Downloads\\rt-polaritydata\\rt-polarity.pos', 'r') as f:\n",
    "    posReviews = f.readlines()\n",
    "with open(r'C:\\Users\\n1555085\\Downloads\\rt-polaritydata\\rt-polarity.neg', 'r') as f:\n",
    "    negReviews = f.readlines()\n",
    "print(len(posReviews), len(negReviews))\n",
    "\n",
    "sw = set(stopwords.words('english') + list(punctuation))\n",
    "def removeStopwords(review):\n",
    "    return ' '.join([word for word in review.split() if word not in sw])\n",
    "posReviews = list(map(removeStopwords, posReviews))\n",
    "negReviews = list(map(removeStopwords, negReviews))\n",
    "posReviews[0:5]\n",
    "#negReviews[0:5]"
   ]
  },
  {
   "cell_type": "code",
   "execution_count": 8,
   "metadata": {},
   "outputs": [],
   "source": [
    "#define pos and neg bag-of words, and vocabulary\n",
    "\n",
    "posWords = [word.lower() for review in posReviews for word in review.split()]\n",
    "negWords = [word.lower() for review in negReviews for word in review.split()]\n",
    "vocabulary = list(set(posWords + negWords))\n",
    "#vocabulary[0:100]"
   ]
  },
  {
   "cell_type": "code",
   "execution_count": 9,
   "metadata": {},
   "outputs": [],
   "source": [
    "#define training data: list of (review list of words, label) tuples\n",
    "trainingData = [(r.split(), 'pos') for r in posReviews] + [(r.split(), 'neg') for r in negReviews]"
   ]
  },
  {
   "cell_type": "code",
   "execution_count": 10,
   "metadata": {},
   "outputs": [],
   "source": [
    "#extract feature vector from each review, train classifier\n",
    "def featureVector(review):\n",
    "    reviewWords = set(review)\n",
    "    features = {}\n",
    "    for word in vocabulary:\n",
    "        features[word] = word in reviewWords\n",
    "    return features\n",
    "\n",
    "naiveBayesClassifier = nltk.NaiveBayesClassifier.train(nltk.classify.apply_features(featureVector, trainingData))"
   ]
  },
  {
   "cell_type": "code",
   "execution_count": 72,
   "metadata": {},
   "outputs": [],
   "source": [
    "#classify functions\n",
    "def NBclassify(review):\n",
    "    review = removeStopwords(review)\n",
    "    features = featureVector(review.split())\n",
    "    probDist = naiveBayesClassifier.prob_classify(features)\n",
    "    confidence = max(probDist.prob('pos'), probDist.prob('neg'))\n",
    "    #pos and neg add to 1\n",
    "    return (naiveBayesClassifier.classify(features).upper(), confidence)\n",
    "\n",
    "def NBclassifyComments(comments):\n",
    "    return [(c, NBclassify(c)) for c in comments]"
   ]
  },
  {
   "cell_type": "code",
   "execution_count": 73,
   "metadata": {},
   "outputs": [
    {
     "data": {
      "text/plain": [
       "[('I already cleared cookies and cache and the site is still not accessible. This was a presumptuous answer.',\n",
       "  ('NEG', 0.7184971984641318)),\n",
       " ('I still dont have the access I requested (Im getting an error when I submit the recommended form 2006) and my ticket was closed AFTER I let them know I needed additional assistance.',\n",
       "  ('POS', 0.9096389566848931)),\n",
       " ('Delayed action', ('NEG', 0.6939037837850336)),\n",
       " ('The person didnt resolve my issue, he was messaging me on teams at 12pm when I am in London. When i told him this he then said he would refer to their night team who never contacted me.',\n",
       "  ('NEG', 0.9477945026135149)),\n",
       " ('I did not interact with a support person. I submitted an online ticket then got notified it was closed.',\n",
       "  ('POS', 0.7311015270139382)),\n",
       " ('they closed my ticket before it was resolved. They emailed to say the made updates and I responded to say it wasnt resolved then I received an email confirmation that my ticket was resolved when it still isnt',\n",
       "  ('NEG', 0.5842244903056795)),\n",
       " ('my response is based on the person I talked to today, the 3rd day of my monitor not working. since being back up and running, the monitor continues to go off and on.',\n",
       "  ('NEG', 0.9605262515003282)),\n",
       " ('The email offering a solution was friendly in tone.',\n",
       "  ('NEG', 0.5644492292783888)),\n",
       " ('The support representatives were courteous and professional at all times.',\n",
       "  ('NEG', 0.8205135712303105)),\n",
       " ('I felt like she was in a hurry. I asked her to call me so I can explain my issues and she said she was multi-tasking and helping while she was in a meeting',\n",
       "  ('NEG', 0.6305268109447967)),\n",
       " ('Helpful and accommodated teams call to help try to resolve issue.',\n",
       "  ('NEG', 0.7013959007100321)),\n",
       " ('The response did not provide any information or update and the spelling was inaccurate.',\n",
       "  ('NEG', 0.6989333938812491)),\n",
       " ('I had an unfavorable experience with support personnel three times. First, receiving communications from an email address that returns an undeliverable message when you reply. Second, not receiving a reply for assistance for one week and having to make a second request. Third, a telephone call with a rep who was short and rude and was not paying attention to my screen even though they asked for me to share it with them for a visual to assist me.',\n",
       "  ('POS', 0.9722956836108024)),\n",
       " ('personnel was professional', ('POS', 0.7066155100834274)),\n",
       " ('I didnt get to interact with anyone regarding this issue. It was marked resolved despite it being a known outage',\n",
       "  ('POS', 0.8952419374550455)),\n",
       " ('They contacted me for the first time view email over the weekend, then later at another time that was not at one of the suggested times that they asked me to provide. They also would not speak with me only text. I tried to call them and they did not pick up. I asked them to call me and they said their headset was broken. I asked them to call with out the headset using their computer speakers or a cell phone and they said they could not.',\n",
       "  ('NEG', 0.9643600881433122))]"
      ]
     },
     "execution_count": 73,
     "metadata": {},
     "output_type": "execute_result"
    }
   ],
   "source": [
    "labeledComments = NBclassifyComments(courtesy)\n",
    "labeledComments"
   ]
  },
  {
   "cell_type": "code",
   "execution_count": 36,
   "metadata": {},
   "outputs": [
    {
     "name": "stdout",
     "output_type": "stream",
     "text": [
      "['i', 'me', 'my', 'myself', 'we', 'our', 'ours', 'ourselves', 'you', \"you're\", \"you've\", \"you'll\", \"you'd\", 'your', 'yours', 'yourself', 'yourselves', 'he', 'him', 'his', 'himself', 'she', \"she's\", 'her', 'hers', 'herself', 'it', \"it's\", 'its', 'itself', 'they', 'them', 'their', 'theirs', 'themselves', 'what', 'which', 'who', 'whom', 'this', 'that', \"that'll\", 'these', 'those', 'am', 'is', 'are', 'was', 'were', 'be', 'been', 'being', 'have', 'has', 'had', 'having', 'do', 'does', 'did', 'doing', 'a', 'an', 'the', 'and', 'but', 'if', 'or', 'because', 'as', 'until', 'while', 'of', 'at', 'by', 'for', 'with', 'about', 'against', 'between', 'into', 'through', 'during', 'before', 'after', 'above', 'below', 'to', 'from', 'up', 'down', 'in', 'out', 'on', 'off', 'over', 'under', 'again', 'further', 'then', 'once', 'here', 'there', 'when', 'where', 'why', 'how', 'all', 'any', 'both', 'each', 'few', 'more', 'most', 'other', 'some', 'such', 'no', 'nor', 'not', 'only', 'own', 'same', 'so', 'than', 'too', 'very', 's', 't', 'can', 'will', 'just', 'don', \"don't\", 'should', \"should've\", 'now', 'd', 'll', 'm', 'o', 're', 've', 'y', 'ain', 'aren', \"aren't\", 'couldn', \"couldn't\", 'didn', \"didn't\", 'doesn', \"doesn't\", 'hadn', \"hadn't\", 'hasn', \"hasn't\", 'haven', \"haven't\", 'isn', \"isn't\", 'ma', 'mightn', \"mightn't\", 'mustn', \"mustn't\", 'needn', \"needn't\", 'shan', \"shan't\", 'shouldn', \"shouldn't\", 'wasn', \"wasn't\", 'weren', \"weren't\", 'won', \"won't\", 'wouldn', \"wouldn't\"]\n"
     ]
    }
   ],
   "source": [
    "print(stopwords.words('english'))\n",
    "# note, might want to remove following stopwords: ['not', 'no', '!']"
   ]
  },
  {
   "cell_type": "code",
   "execution_count": null,
   "metadata": {},
   "outputs": [],
   "source": []
  }
 ],
 "metadata": {
  "kernelspec": {
   "display_name": "Python 3",
   "language": "python",
   "name": "python3"
  },
  "language_info": {
   "codemirror_mode": {
    "name": "ipython",
    "version": 3
   },
   "file_extension": ".py",
   "mimetype": "text/x-python",
   "name": "python",
   "nbconvert_exporter": "python",
   "pygments_lexer": "ipython3",
   "version": "3.8.5"
  }
 },
 "nbformat": 4,
 "nbformat_minor": 4
}
